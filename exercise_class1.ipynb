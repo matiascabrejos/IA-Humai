{
  "nbformat": 4,
  "nbformat_minor": 0,
  "metadata": {
    "colab": {
      "name": "exercise_class1.ipynb",
      "provenance": [],
      "collapsed_sections": [],
      "authorship_tag": "ABX9TyO39ZBX4bdXsicpjI9BK+0/",
      "include_colab_link": true
    },
    "kernelspec": {
      "name": "python3",
      "display_name": "Python 3"
    },
    "language_info": {
      "name": "python"
    }
  },
  "cells": [
    {
      "cell_type": "markdown",
      "metadata": {
        "id": "view-in-github",
        "colab_type": "text"
      },
      "source": [
        "<a href=\"https://colab.research.google.com/github/matiascabrejos/IA-Humai/blob/main/exercise_class1.ipynb\" target=\"_parent\"><img src=\"https://colab.research.google.com/assets/colab-badge.svg\" alt=\"Open In Colab\"/></a>"
      ]
    },
    {
      "cell_type": "markdown",
      "source": [
        "Descargar letras de canciones\n",
        "\n",
        "Utilizando beautiful soup descargar todas las canciones de Spinetta que hay en letras.com"
      ],
      "metadata": {
        "id": "-Omr9k87XwAN"
      }
    },
    {
      "cell_type": "code",
      "source": [
        "from bs4 import BeautifulSoup\n",
        "import requests\n",
        "import os"
      ],
      "metadata": {
        "id": "Hr4hi1tYXxGz"
      },
      "execution_count": null,
      "outputs": []
    },
    {
      "cell_type": "code",
      "source": [
        "letras_url = \"https://www.letras.com\""
      ],
      "metadata": {
        "id": "u4P_vxpHX_aA"
      },
      "execution_count": 1,
      "outputs": []
    }
  ]
}