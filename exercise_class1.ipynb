{
  "nbformat": 4,
  "nbformat_minor": 0,
  "metadata": {
    "colab": {
      "name": "exercise_class1.ipynb",
      "provenance": [],
      "collapsed_sections": [],
      "authorship_tag": "ABX9TyM2so8I+3LfrMmyGT9ZFinP",
      "include_colab_link": true
    },
    "kernelspec": {
      "name": "python3",
      "display_name": "Python 3"
    },
    "language_info": {
      "name": "python"
    }
  },
  "cells": [
    {
      "cell_type": "markdown",
      "metadata": {
        "id": "view-in-github",
        "colab_type": "text"
      },
      "source": [
        "<a href=\"https://colab.research.google.com/github/matiascabrejos/IA-Humai/blob/main/exercise_class1.ipynb\" target=\"_parent\"><img src=\"https://colab.research.google.com/assets/colab-badge.svg\" alt=\"Open In Colab\"/></a>"
      ]
    },
    {
      "cell_type": "markdown",
      "source": [
        "Descargar letras de canciones\n",
        "\n",
        "Utilizando beautiful soup descargar todas las canciones de Spinetta que hay en letras.com"
      ],
      "metadata": {
        "id": "-Omr9k87XwAN"
      }
    },
    {
      "cell_type": "code",
      "source": [
        "from bs4 import BeautifulSoup\n",
        "import requests\n",
        "import os"
      ],
      "metadata": {
        "id": "Hr4hi1tYXxGz"
      },
      "execution_count": 2,
      "outputs": []
    },
    {
      "cell_type": "code",
      "source": [
        "letras_url = \"https://www.letras.com\""
      ],
      "metadata": {
        "id": "u4P_vxpHX_aA"
      },
      "execution_count": 3,
      "outputs": []
    },
    {
      "cell_type": "code",
      "source": [
        "def descargar_letras(artista):\n",
        "    url_artista = letras_url + '/' + artista\n",
        "    resultado = requests.get(url_artista)\n",
        "    codigo_html = resultado.text  \n",
        "    soup = BeautifulSoup(codigo_html, \"html.parser\")\n",
        "    a_todos = soup.find_all('a', class_ = 'song-name')\n",
        "    for a in a_todos:\n",
        "      print(a.text)  \n",
        "    return a"
      ],
      "metadata": {
        "id": "JS3YHaZYqVG9"
      },
      "execution_count": 22,
      "outputs": []
    },
    {
      "cell_type": "code",
      "source": [
        "artista = \"luis-alberto-spinetta\"\n",
        "descargar_letras(artista)"
      ],
      "metadata": {
        "colab": {
          "base_uri": "https://localhost:8080/"
        },
        "id": "5Jd43hEPrOuu",
        "outputId": "b2a1cb6f-d087-416c-c268-43c47de0451f"
      },
      "execution_count": 23,
      "outputs": [
        {
          "output_type": "stream",
          "name": "stdout",
          "text": [
            "A Estos Hombres Tristes\n",
            "A su amor allí\n",
            "Abrazame Inocentemente, Del Lemur a La Boa\n",
            "Adentro Tuyo\n",
            "Agua de la miseria\n",
            "Agua de Rio\n",
            "Aguila de Trueno\n",
            "Al Ver Verás\n",
            "Alfil, Ella No Cambia Nada\n",
            "Alma de Diamante\n",
            "Alteracion En El Tiempo\n",
            "Amor de Primavera\n",
            "Ana No Duerme\n",
            "Asilo en tu corazón\n",
            "Ave Seca\n",
            "Bahía Final\n",
            "Bajan\n",
            "Barro Tal Vez\n",
            "Blues de Cris\n",
            "Bomba Azul\n",
            "Bosnia\n",
            "Buenos Aires (alma de piedra)\n",
            "Cada Luz\n",
            "Cadalso Temporal\n",
            "Camafeo\n",
            "Campos verdes\n",
            "Canción Para Los Días de La Vida\n",
            "Cantata de Puentes Amarillos\n",
            "Casas Marcadas\n",
            "Caspa Tropical\n",
            "Castillo de Piedra\n",
            "Cementerio Club\n",
            "Cheques\n",
            "Cielo Invertido\n",
            "Ciénaga dorada\n",
            "Como el viento voy a ver\n",
            "Como un Perro\n",
            "Cordón de Perfume\n",
            "Correr frente a tí\n",
            "Crisantemo\n",
            "Cuando El Arte Ataque\n",
            "Dale Gracias\n",
            "Dale Luz Al Instante\n",
            "Dame, Dame Pan\n",
            "Dedos de mimbre\n",
            "Descalza Camina\n",
            "Despiértate nena\n",
            "Diganle\n",
            "Divino Presagio\n",
            "Domo Tu\n",
            "Donde no se lee\n",
            "Dos Murciélagos\n",
            "Durazno Sangrado\n",
            "El Anillo Del Capitán Beto\n",
            "El Enemigo\n",
            "El Gran Doblez\n",
            "El Lenguaje Del Cielo\n",
            "El mundo entre las manos\n",
            "Ella También\n",
            "Encadenado Al Ànima\n",
            "Era de Tontos\n",
            "Es La Medianoche\n",
            "Escape Hacia El Alma\n",
            "Espejo en una sombra\n",
            "Esta es la sombra\n",
            "Estás acá\n",
            "Este Es El Hombre de Hielo\n",
            "Estrella\n",
            "Farol de amor\n",
            "Fermín\n",
            "Feroz Canción\n",
            "Fina ropa blanca\n",
            "Flecha Zen\n",
            "Fuji\n",
            "Ganges\n",
            "Gricel\n",
            "Hermano perro\n",
            "Holanda\n",
            "Ilumina Mis Ojos\n",
            "Jabalíes Conejines\n",
            "Jardín de Gente\n",
            "Jilguero\n",
            "Kamikaze\n",
            "La aventura de la abeja reina\n",
            "La bengala perdida\n",
            "La Búsqueda de La Estrella\n",
            "La diosa salvaje\n",
            "La eternidad imaginaria\n",
            "La herida de París\n",
            "La Luz de La Manzana\n",
            "La Melodía Es En Tu Alma\n",
            "La Mendiga\n",
            "La miel en tu ventana\n",
            "La Montaña\n",
            "La sed verdadera\n",
            "La verdad de las grullas\n",
            "Lago de forma mía\n",
            "Laura Va\n",
            "Lejísimo\n",
            "Llama y Verás\n",
            "Lo Siento En Mi Corazón\n",
            "Los Elefantes\n",
            "Los Libros de La Buena Memoria\n",
            "Luces y Sombras\n",
            "Ludmila\n",
            "Lulú Tomo El Taxi\n",
            "Luna de Abril\n",
            "Luz sin freno\n",
            "Mapa de Tu Amor\n",
            "Maribel\n",
            "Me gusta ese tajo\n",
            "Mi elemento\n",
            "Mi sueño de hoy\n",
            "Muchacha Ojos de Papel\n",
            "Mundo Disperso\n",
            "Nasty people\n",
            "Ni Cuenta Te Das\n",
            "Ni Hables\n",
            "Nirvana Mañana\n",
            "No quiere decir\n",
            "No seas fanática\n",
            "No te alejes tanto de mí\n",
            "No te busques más en el umbral\n",
            "No ves que ya no somos chiquitos?\n",
            "Nómbrala\n",
            "Norte de Nada\n",
            "Nunca me oiste en tiempo\n",
            "Oboi\n",
            "Oh! Doctor\n",
            "Organismo En El Aire\n",
            "Panacea\n",
            "Para ir\n",
            "Parado En La Sentina\n",
            "Paraíso\n",
            "Parte del aire\n",
            "Penumbra\n",
            "Perdido en ti\n",
            "Plegaria Para Un Niño Dormido\n",
            "Por\n",
            "Poseido del alba\n",
            "Preciosa dama azul\n",
            "Preso ventanilla\n",
            "Que Ves El Cielo\n",
            "Quedándote o Yéndote\n",
            "Resumen Porteño\n",
            "Rezo por vos\n",
            "Ropa Violeta\n",
            "Rutas Argentinas\n",
            "Sagrado tesoro\n",
            "Seguir Viviendo Sin Tu Amor\n",
            "Será que la canción llegó hasta el Sol\n",
            "Sexo\n",
            "Sin Abandono\n",
            "Tema de Pedro\n",
            "Tocando Sin Sentir\n",
            "Toda la vida tiene música\n",
            "Todas Las Hojas Son Del Viento\n",
            "Tonta Luz\n",
            "Trampaluz\n",
            "Tu nombre sobre mi nombre\n",
            "Tú Vendrás a Juntar Mis Días\n",
            "Tu vuelo al fin\n",
            "Un Sitio Es Un Sitio\n",
            "Una sola cosa\n",
            "Vamos Al Bosque\n",
            "Veinte Ciudades\n",
            "Vidami\n",
            "Viejas mascarillas\n",
            "Wendolin\n",
            "Ya No Mires Atrás\n",
            "Yo No Puedo Dar Sombra\n",
            "Yo quiero ver un trén\n"
          ]
        },
        {
          "output_type": "execute_result",
          "data": {
            "text/plain": [
              "<a class=\"song-name\" href=\"/luis-alberto-spinetta/569122/\"><span>Yo quiero ver un trén</span></a>"
            ]
          },
          "metadata": {},
          "execution_count": 23
        }
      ]
    }
  ]
}