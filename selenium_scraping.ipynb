{
  "nbformat": 4,
  "nbformat_minor": 0,
  "metadata": {
    "colab": {
      "name": "selenium_scraping.ipynb",
      "provenance": [],
      "collapsed_sections": [],
      "authorship_tag": "ABX9TyMjTH3Oas3u63b+UuOBjQ6k",
      "include_colab_link": true
    },
    "kernelspec": {
      "name": "python3",
      "display_name": "Python 3"
    },
    "language_info": {
      "name": "python"
    }
  },
  "cells": [
    {
      "cell_type": "markdown",
      "metadata": {
        "id": "view-in-github",
        "colab_type": "text"
      },
      "source": [
        "<a href=\"https://colab.research.google.com/github/matiascabrejos/IA-Humai/blob/main/selenium_scraping.ipynb\" target=\"_parent\"><img src=\"https://colab.research.google.com/assets/colab-badge.svg\" alt=\"Open In Colab\"/></a>"
      ]
    },
    {
      "cell_type": "code",
      "execution_count": null,
      "metadata": {
        "id": "BOJYx2LR7bU9"
      },
      "outputs": [],
      "source": [
        "!pip install selenium\n",
        "!apt-get update \n",
        "!apt install chromium-chromedriver\n",
        "\n",
        "import sys\n",
        "sys.path.insert(0,'/usr/lib/chromium-browser/chromedriver')\n",
        "from selenium import webdriver\n",
        "from selenium.webdriver.support.ui import Select\n",
        "from selenium.webdriver.common.keys import Keys\n",
        "from selenium.webdriver.support.ui import WebDriverWait \n",
        "from selenium.webdriver.common.by import By\n",
        "from selenium.webdriver.support import expected_conditions as EC\n",
        "\n",
        "options = webdriver.ChromeOptions() # Usamos chrome, se podria usar otro.\n",
        "options.add_argument('--headless') # Chromium sin interfaz grafica\n",
        "options.add_argument('--no-sandbox') # Seguridad\n",
        "options.add_argument('--disable-dev-shm-usage') # configuracion de linux\n",
        "options.add_argument('--user-agent=\"\"Mozilla/5.0 (Windows NT 10.0; Win64; x64) AppleWebKit/537.36 (KHTML, like Gecko) Chrome/74.0.3729.157 Safari/537.36\"\"') # user agent\n",
        "\n",
        "driver = webdriver.Chrome('chromedriver',options=options)"
      ]
    },
    {
      "cell_type": "code",
      "source": [
        "driver = webdriver.Chrome('chromedriver',options=options)\n",
        "\n",
        "url = 'https://economics.harvard.edu/'\n",
        "\n",
        "# Hacemos que vaya a la url\n",
        "driver.get(url)\n",
        "driver.save_screenshot(f'harvard0.png')\n",
        "\n",
        "driver.execute_script(\"window.scrollTo(0, document.body.scrollHeight);\") "
      ],
      "metadata": {
        "id": "diQrJo0f8C_r"
      },
      "execution_count": null,
      "outputs": []
    },
    {
      "cell_type": "code",
      "source": [
        "it_link = '//*[@id=\"boxes-box-1589214196\"]/div/p/a'\n",
        "driver.execute_script(\"arguments[0].click();\", WebDriverWait(driver, 5).until(EC.element_to_be_clickable((By.XPATH, it_link))))\n",
        "driver.save_screenshot(f'harvard1.png')"
      ],
      "metadata": {
        "colab": {
          "base_uri": "https://localhost:8080/"
        },
        "id": "qqBA_foo8ei_",
        "outputId": "4b719f36-1302-43f7-a77a-4852f3b34c8c"
      },
      "execution_count": null,
      "outputs": [
        {
          "output_type": "execute_result",
          "data": {
            "text/plain": [
              "True"
            ]
          },
          "metadata": {},
          "execution_count": 14
        }
      ]
    },
    {
      "cell_type": "code",
      "source": [
        "def element_text(xpath):\n",
        "    element = driver.find_element_by_xpath(xpath)\n",
        "    return element.text\n",
        "\n",
        "text_xpath = '//*[@id=\"boxes-box-1589298053\"]/div/h2/a'\n",
        "text = element_text(text_xpath)\n",
        "\n",
        "desc_xpath = '//*[@id=\"boxes-box-1589298053\"]/div/p[1]'\n",
        "desc = element_text(desc_xpath)\n",
        "\n",
        "print(f'Text: {text}')\n",
        "print(f'Desc: {desc}')\n",
        "driver.save_screenshot(f'harvard2.png')\n",
        "\n"
      ],
      "metadata": {
        "colab": {
          "base_uri": "https://localhost:8080/"
        },
        "id": "AFAJyipF_Vf1",
        "outputId": "27a4761f-57b9-452e-842b-ae44029bd925"
      },
      "execution_count": null,
      "outputs": [
        {
          "output_type": "stream",
          "name": "stderr",
          "text": [
            "/usr/local/lib/python3.7/dist-packages/ipykernel_launcher.py:2: DeprecationWarning: find_element_by_xpath is deprecated. Please use find_element(by=By.XPATH, value=xpath) instead\n",
            "  \n"
          ]
        },
        {
          "output_type": "stream",
          "name": "stdout",
          "text": [
            "Text: History\n",
            "Desc: The Harvard University Department of Economics was established in 1897 under the division of History, Government, and Economics, which was created at the same time.\n"
          ]
        },
        {
          "output_type": "execute_result",
          "data": {
            "text/plain": [
              "True"
            ]
          },
          "metadata": {},
          "execution_count": 75
        }
      ]
    }
  ]
}