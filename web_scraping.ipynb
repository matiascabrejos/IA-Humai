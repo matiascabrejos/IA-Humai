{
  "nbformat": 4,
  "nbformat_minor": 0,
  "metadata": {
    "colab": {
      "name": "web-scraping.ipynb",
      "provenance": [],
      "collapsed_sections": [],
      "authorship_tag": "ABX9TyNqjHSrNVMPjv2iPSJEzLc+",
      "include_colab_link": true
    },
    "kernelspec": {
      "name": "python3",
      "display_name": "Python 3"
    },
    "language_info": {
      "name": "python"
    }
  },
  "cells": [
    {
      "cell_type": "markdown",
      "metadata": {
        "id": "view-in-github",
        "colab_type": "text"
      },
      "source": [
        "<a href=\"https://colab.research.google.com/github/matiascabrejos/IA-Humai/blob/main/web_scraping.ipynb\" target=\"_parent\"><img src=\"https://colab.research.google.com/assets/colab-badge.svg\" alt=\"Open In Colab\"/></a>"
      ]
    },
    {
      "cell_type": "code",
      "execution_count": 1,
      "metadata": {
        "id": "mcrI1Ap8i_Lq"
      },
      "outputs": [],
      "source": [
        "import requests\n",
        "from bs4 import BeautifulSoup"
      ]
    },
    {
      "cell_type": "code",
      "source": [
        "web_site = 'https://economics.harvard.edu/calendar/upcoming/event-type/seminars'\n",
        "\n",
        "def codigo_html(url):\n",
        "    headers = {\n",
        "        'user-agent': 'Mozilla/5.0 (X11; Linux x86_64) AppleWebKit/537.36 (KHTML, like Gecko) Chrome/84.0.4147.105 Safari/537.36'\n",
        "        }\n",
        "    resp = requests.get(url, headers = headers)\n",
        "    return resp.text\n",
        "\n",
        "web_html = codigo_html(web_site)\n",
        "\n",
        "soup = BeautifulSoup(web_html, \"html.parser\")\n",
        "\n",
        "h1_all = soup.find_all('a', rel='bookmark')\n",
        "\n",
        "for fecha in h1_all:\n",
        "  print('h1 tag ' + fecha.text)\n",
        "\n",
        "span_all = soup.find_all('span', class_='date-display-single')\n",
        "\n",
        "\n",
        "for span in span_all:\n",
        "  print('span tag ' + span.text)\n",
        "\n",
        "h2_all = soup.find_all('h2', class_='block-title')\n",
        "\n",
        "for h2 in h2_all:\n",
        "  print('h2 tag: ' + h2.text[0] + h2.text.upper())\n",
        "\n",
        "option_all = soup.find_all('option')\n",
        "\n",
        "for option in option_all:\n",
        "  print('option tag: ' + option.text[0] + option.text.upper())\n",
        "\n",
        "h1_alls = soup.find_all('h1', id='page-title')\n",
        "\n",
        "for h1s in h1_alls:\n",
        "  print('h1 tag ' + h1s.text)"
      ],
      "metadata": {
        "id": "gWlb9Pj_jZde",
        "colab": {
          "base_uri": "https://localhost:8080/"
        },
        "outputId": "e49dfe37-cebb-4097-d92f-ab434e1ec83b"
      },
      "execution_count": 16,
      "outputs": [
        {
          "output_type": "stream",
          "name": "stdout",
          "text": [
            "h2 tag: FFILTER UPCOMING EVENTS BY FIELD\n",
            "h2 tag: FFILTER BY EVENTS TYPE\n",
            "option tag: SSELECT AN ITEM\n",
            "option tag: AAPPLIED THEORY\n",
            "option tag: BBEHAVIORAL AND EXPERIMENTAL\n",
            "option tag: CCONTRACTS AND ORGANIZATIONS\n",
            "option tag: DDIVERSITY, INCLUSION AND BELONGING\n",
            "option tag: EECONOMETRICS\n",
            "option tag: EECONOMIC DEVELOPMENT\n",
            "option tag: EECONOMIC HISTORY\n",
            "option tag: EENVIRONMENTAL\n",
            "option tag: FFINANCIAL\n",
            "option tag: HHEALTH\n",
            "option tag: IINDUSTRIAL ORGANIZATION (2)\n",
            "option tag: IINTERNATIONAL\n",
            "option tag: LLABOR\n",
            "option tag: LLAW\n",
            "option tag: MMONETARY AND FISCAL\n",
            "option tag: PPOLITICAL ECONOMY\n",
            "option tag: PPUBLIC POLICY\n",
            "option tag: RRELIGION\n",
            "option tag: SSCIENCE\n",
            "PUBLIC POLICY\n",
            "option tag: SSCIENCE\n",
            "option tag: TTHEORY\n",
            "h1 tag \n",
            "\t\t\t\t\t\t\t\t\t\t\t\tSeminars\t\t\t\t\t\t\t\t\t\t\t\n"
          ]
        }
      ]
    }
  ]
}