{
  "nbformat": 4,
  "nbformat_minor": 0,
  "metadata": {
    "colab": {
      "name": "web-scraping.ipynb",
      "provenance": [],
      "collapsed_sections": [],
      "authorship_tag": "ABX9TyNGkjyPz+su+H179JiEsTVl",
      "include_colab_link": true
    },
    "kernelspec": {
      "name": "python3",
      "display_name": "Python 3"
    },
    "language_info": {
      "name": "python"
    }
  },
  "cells": [
    {
      "cell_type": "markdown",
      "metadata": {
        "id": "view-in-github",
        "colab_type": "text"
      },
      "source": [
        "<a href=\"https://colab.research.google.com/github/matiascabrejos/IA-Humai/blob/main/web_scraping.ipynb\" target=\"_parent\"><img src=\"https://colab.research.google.com/assets/colab-badge.svg\" alt=\"Open In Colab\"/></a>"
      ]
    },
    {
      "cell_type": "code",
      "execution_count": 1,
      "metadata": {
        "id": "mcrI1Ap8i_Lq"
      },
      "outputs": [],
      "source": [
        "import requests\n",
        "from bs4 import BeautifulSoup"
      ]
    },
    {
      "cell_type": "code",
      "source": [
        "web_site = 'https://economics.harvard.edu/calendar/upcoming/event-type/seminars'\n",
        "\n",
        "def codigo_html(url):\n",
        "    headers = {\n",
        "        'user-agent': 'Mozilla/5.0 (X11; Linux x86_64) AppleWebKit/537.36 (KHTML, like Gecko) Chrome/84.0.4147.105 Safari/537.36'\n",
        "        }\n",
        "    resp = requests.get(url, headers = headers)\n",
        "    return resp.text\n",
        "\n",
        "web_html = codigo_html(web_site)\n",
        "\n",
        "soup = BeautifulSoup(web_html, \"html.parser\")\n",
        "\n",
        "h1_all = soup.find_all('a', rel='bookmark')\n",
        "\n",
        "for fecha in h1_all:\n",
        "  print('h1 tag ' + fecha.text)\n",
        "\n",
        "span_all = soup.find_all('span', class_='date-display-single')\n",
        "\n",
        "\n",
        "for span in span_all:\n",
        "  print('span tag ' + span.text)\n",
        "\n",
        "h2_all = soup.find_all('h2', class_='block-title')\n",
        "\n",
        "for h2 in h2_all:\n",
        "  print('h2 tag: ' + h2.text)\n",
        "\n",
        "option_all = soup.find_all('option')\n",
        "\n",
        "for option in option_all:\n",
        "  print('option tag: ' + option.text[0] + option.text)\n",
        "\n",
        "h1_alls = soup.find_all('h1', id='page-title')\n",
        "\n",
        "for h1s in h1_alls:\n",
        "  print('h1 tag ' + h1s.text)"
      ],
      "metadata": {
        "id": "gWlb9Pj_jZde",
        "colab": {
          "base_uri": "https://localhost:8080/"
        },
        "outputId": "7f6adf46-eb74-4b07-dbd6-80518386cab8"
      },
      "execution_count": 3,
      "outputs": [
        {
          "output_type": "stream",
          "name": "stdout",
          "text": [
            "h2 tag: Filter Upcoming Events by Field\n",
            "h2 tag: Filter By Events Type\n",
            "option tag: SSelect an item\n",
            "option tag: AApplied Theory\n",
            "option tag: BBehavioral and Experimental\n",
            "option tag: CContracts and Organizations\n",
            "option tag: DDiversity, Inclusion and Belonging\n",
            "option tag: EEconometrics\n",
            "option tag: EEconomic Development\n",
            "option tag: EEconomic History\n",
            "option tag: EEnvironmental\n",
            "option tag: FFinancial\n",
            "option tag: HHealth\n",
            "option tag: IIndustrial Organization (2)\n",
            "option tag: IInternational\n",
            "option tag: LLabor (2)\n",
            "option tag: LLaw\n",
            "option tag: MMonetary and Fiscal\n",
            "option tag: PPolitical Economy\n",
            "option tag: PPublic Policy (2)\n",
            "option tag: RReligion\n",
            "option tag: SScience\n",
            "Public Policy\n",
            "option tag: SScience\n",
            "option tag: TTheory\n",
            "h1 tag \n",
            "\t\t\t\t\t\t\t\t\t\t\t\tSeminars\t\t\t\t\t\t\t\t\t\t\t\n"
          ]
        }
      ]
    }
  ]
}