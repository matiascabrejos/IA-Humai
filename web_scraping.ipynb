{
  "nbformat": 4,
  "nbformat_minor": 0,
  "metadata": {
    "colab": {
      "name": "web-scraping.ipynb",
      "provenance": [],
      "collapsed_sections": [],
      "authorship_tag": "ABX9TyMOy4MKoOWW714+5s2KHdku",
      "include_colab_link": true
    },
    "kernelspec": {
      "name": "python3",
      "display_name": "Python 3"
    },
    "language_info": {
      "name": "python"
    }
  },
  "cells": [
    {
      "cell_type": "markdown",
      "metadata": {
        "id": "view-in-github",
        "colab_type": "text"
      },
      "source": [
        "<a href=\"https://colab.research.google.com/github/matiascabrejos/IA-Humai/blob/main/web_scraping.ipynb\" target=\"_parent\"><img src=\"https://colab.research.google.com/assets/colab-badge.svg\" alt=\"Open In Colab\"/></a>"
      ]
    },
    {
      "cell_type": "code",
      "execution_count": 1,
      "metadata": {
        "id": "mcrI1Ap8i_Lq"
      },
      "outputs": [],
      "source": [
        "import requests\n",
        "from bs4 import BeautifulSoup"
      ]
    },
    {
      "cell_type": "code",
      "source": [
        "web_site = 'https://economics.harvard.edu/calendar/upcoming/event-type/seminars'\n",
        "\n",
        "def codigo_html(url):\n",
        "    headers = {\n",
        "        'user-agent': 'Mozilla/5.0 (X11; Linux x86_64) AppleWebKit/537.36 (KHTML, like Gecko) Chrome/84.0.4147.105 Safari/537.36'\n",
        "        }\n",
        "    resp = requests.get(url, headers = headers)\n",
        "    return resp.text\n",
        "\n",
        "web_html = codigo_html(web_site)\n",
        "\n",
        "soup = BeautifulSoup(web_html, \"html.parser\")\n",
        "\n",
        "h1_all = soup.find_all('a', rel='bookmark')\n",
        "\n",
        "for fecha in h1_all:\n",
        "  print(fecha.text)\n",
        "\n",
        "span_all = soup.find_all('span', class_='date-display-single')\n",
        "\n",
        "\n",
        "for span in span_all:\n",
        "  print(span.text)\n",
        "\n",
        "h2_all = soup.find_all('h2', class_='block-title')\n",
        "\n",
        "for h2 in h2_all:\n",
        "  print(h2.text)\n",
        "\n",
        "option_all = soup.find_all('option')\n",
        "\n",
        "for option in option_all:\n",
        "  print(option.text)\n",
        "\n",
        "h1_alls = soup.find_all('h1', id='page-title')\n",
        "\n",
        "for h1s in h1_alls:\n",
        "  print(h1s.text)"
      ],
      "metadata": {
        "id": "gWlb9Pj_jZde",
        "colab": {
          "base_uri": "https://localhost:8080/"
        },
        "outputId": "417d4032-a109-45ff-8ff5-ae7d363dbe87"
      },
      "execution_count": 10,
      "outputs": [
        {
          "output_type": "stream",
          "name": "stdout",
          "text": [
            "Filter Upcoming Events by Field\n",
            "Select an item\n",
            "Applied Theory\n",
            "Behavioral and Experimental\n",
            "Contracts and Organizations\n",
            "Diversity, Inclusion and Belonging\n",
            "Econometrics\n",
            "Economic Development\n",
            "Economic History\n",
            "Environmental\n",
            "Financial\n",
            "Health\n",
            "Industrial Organization\n",
            "International\n",
            "Labor\n",
            "Law\n",
            "Monetary and Fiscal\n",
            "Political Economy\n",
            "Public Policy\n",
            "Religion\n",
            "Science\n",
            "Public Policy\n",
            "Science\n",
            "Theory\n",
            "\n",
            "\t\t\t\t\t\t\t\t\t\t\t\tSeminars\t\t\t\t\t\t\t\t\t\t\t\n"
          ]
        }
      ]
    }
  ]
}