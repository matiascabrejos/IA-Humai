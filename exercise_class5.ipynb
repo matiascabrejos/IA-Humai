{
  "nbformat": 4,
  "nbformat_minor": 0,
  "metadata": {
    "colab": {
      "name": "exercise_class5.ipynb",
      "provenance": [],
      "collapsed_sections": [],
      "authorship_tag": "ABX9TyMajbgMc2AEJSfd6/+yZjtT",
      "include_colab_link": true
    },
    "kernelspec": {
      "name": "python3",
      "display_name": "Python 3"
    },
    "language_info": {
      "name": "python"
    }
  },
  "cells": [
    {
      "cell_type": "markdown",
      "metadata": {
        "id": "view-in-github",
        "colab_type": "text"
      },
      "source": [
        "<a href=\"https://colab.research.google.com/github/matiascabrejos/IA-Humai/blob/main/exercise_class5.ipynb\" target=\"_parent\"><img src=\"https://colab.research.google.com/assets/colab-badge.svg\" alt=\"Open In Colab\"/></a>"
      ]
    },
    {
      "cell_type": "code",
      "execution_count": null,
      "metadata": {
        "id": "o4kQXpSCe_su"
      },
      "outputs": [],
      "source": [
        "import pandas as pd \n",
        "import matplotlib.pyplot as plt\n",
        "%matplotlib inline\n",
        "import numpy as np\n",
        "import seaborn as sns\n",
        "sns.set_style('dark')"
      ]
    },
    {
      "cell_type": "code",
      "source": [
        "df = pd.read_csv('https://datasets-humai.s3.amazonaws.com/datasets/data_macro.csv',sep=',')"
      ],
      "metadata": {
        "id": "Upzdaw7oSq3y"
      },
      "execution_count": null,
      "outputs": []
    },
    {
      "cell_type": "code",
      "source": [
        "df.describe()"
      ],
      "metadata": {
        "colab": {
          "base_uri": "https://localhost:8080/",
          "height": 300
        },
        "id": "rdqCqB-sSxJw",
        "outputId": "3690a442-8391-41a1-96ab-a7eaab36263e"
      },
      "execution_count": null,
      "outputs": [
        {
          "output_type": "execute_result",
          "data": {
            "text/plain": [
              "       Unnamed: 0          Año       PIB_D  Importaciones_D  Exportaciones_D  \\\n",
              "count   64.000000    64.000000   64.000000        64.000000        64.000000   \n",
              "mean    31.500000  2011.500000  657.616969       156.705766       143.946438   \n",
              "std     18.618987     4.646214   73.668359        40.948006        12.678413   \n",
              "min      0.000000  2004.000000  469.984000        76.726000       110.908000   \n",
              "25%     15.750000  2007.750000  615.425500       120.099000       136.724500   \n",
              "50%     31.500000  2011.500000  693.220500       167.646500       142.854500   \n",
              "75%     47.250000  2015.250000  712.038000       186.293750       153.664500   \n",
              "max     63.000000  2019.000000  737.842000       234.093000       166.335000   \n",
              "\n",
              "       Consumo_Privado_D  Consumo_Publico_D  \n",
              "count          64.000000          64.000000  \n",
              "mean          460.150297          80.383109  \n",
              "std            71.716057          14.607297  \n",
              "min           301.075000          52.471000  \n",
              "25%           411.005500          68.135750  \n",
              "50%           491.665500          82.015000  \n",
              "75%           517.251750          94.553500  \n",
              "max           557.823000          99.659000  "
            ],
            "text/html": [
              "\n",
              "  <div id=\"df-05a068b0-955f-4eb2-9654-6c2129514069\">\n",
              "    <div class=\"colab-df-container\">\n",
              "      <div>\n",
              "<style scoped>\n",
              "    .dataframe tbody tr th:only-of-type {\n",
              "        vertical-align: middle;\n",
              "    }\n",
              "\n",
              "    .dataframe tbody tr th {\n",
              "        vertical-align: top;\n",
              "    }\n",
              "\n",
              "    .dataframe thead th {\n",
              "        text-align: right;\n",
              "    }\n",
              "</style>\n",
              "<table border=\"1\" class=\"dataframe\">\n",
              "  <thead>\n",
              "    <tr style=\"text-align: right;\">\n",
              "      <th></th>\n",
              "      <th>Unnamed: 0</th>\n",
              "      <th>Año</th>\n",
              "      <th>PIB_D</th>\n",
              "      <th>Importaciones_D</th>\n",
              "      <th>Exportaciones_D</th>\n",
              "      <th>Consumo_Privado_D</th>\n",
              "      <th>Consumo_Publico_D</th>\n",
              "    </tr>\n",
              "  </thead>\n",
              "  <tbody>\n",
              "    <tr>\n",
              "      <th>count</th>\n",
              "      <td>64.000000</td>\n",
              "      <td>64.000000</td>\n",
              "      <td>64.000000</td>\n",
              "      <td>64.000000</td>\n",
              "      <td>64.000000</td>\n",
              "      <td>64.000000</td>\n",
              "      <td>64.000000</td>\n",
              "    </tr>\n",
              "    <tr>\n",
              "      <th>mean</th>\n",
              "      <td>31.500000</td>\n",
              "      <td>2011.500000</td>\n",
              "      <td>657.616969</td>\n",
              "      <td>156.705766</td>\n",
              "      <td>143.946438</td>\n",
              "      <td>460.150297</td>\n",
              "      <td>80.383109</td>\n",
              "    </tr>\n",
              "    <tr>\n",
              "      <th>std</th>\n",
              "      <td>18.618987</td>\n",
              "      <td>4.646214</td>\n",
              "      <td>73.668359</td>\n",
              "      <td>40.948006</td>\n",
              "      <td>12.678413</td>\n",
              "      <td>71.716057</td>\n",
              "      <td>14.607297</td>\n",
              "    </tr>\n",
              "    <tr>\n",
              "      <th>min</th>\n",
              "      <td>0.000000</td>\n",
              "      <td>2004.000000</td>\n",
              "      <td>469.984000</td>\n",
              "      <td>76.726000</td>\n",
              "      <td>110.908000</td>\n",
              "      <td>301.075000</td>\n",
              "      <td>52.471000</td>\n",
              "    </tr>\n",
              "    <tr>\n",
              "      <th>25%</th>\n",
              "      <td>15.750000</td>\n",
              "      <td>2007.750000</td>\n",
              "      <td>615.425500</td>\n",
              "      <td>120.099000</td>\n",
              "      <td>136.724500</td>\n",
              "      <td>411.005500</td>\n",
              "      <td>68.135750</td>\n",
              "    </tr>\n",
              "    <tr>\n",
              "      <th>50%</th>\n",
              "      <td>31.500000</td>\n",
              "      <td>2011.500000</td>\n",
              "      <td>693.220500</td>\n",
              "      <td>167.646500</td>\n",
              "      <td>142.854500</td>\n",
              "      <td>491.665500</td>\n",
              "      <td>82.015000</td>\n",
              "    </tr>\n",
              "    <tr>\n",
              "      <th>75%</th>\n",
              "      <td>47.250000</td>\n",
              "      <td>2015.250000</td>\n",
              "      <td>712.038000</td>\n",
              "      <td>186.293750</td>\n",
              "      <td>153.664500</td>\n",
              "      <td>517.251750</td>\n",
              "      <td>94.553500</td>\n",
              "    </tr>\n",
              "    <tr>\n",
              "      <th>max</th>\n",
              "      <td>63.000000</td>\n",
              "      <td>2019.000000</td>\n",
              "      <td>737.842000</td>\n",
              "      <td>234.093000</td>\n",
              "      <td>166.335000</td>\n",
              "      <td>557.823000</td>\n",
              "      <td>99.659000</td>\n",
              "    </tr>\n",
              "  </tbody>\n",
              "</table>\n",
              "</div>\n",
              "      <button class=\"colab-df-convert\" onclick=\"convertToInteractive('df-05a068b0-955f-4eb2-9654-6c2129514069')\"\n",
              "              title=\"Convert this dataframe to an interactive table.\"\n",
              "              style=\"display:none;\">\n",
              "        \n",
              "  <svg xmlns=\"http://www.w3.org/2000/svg\" height=\"24px\"viewBox=\"0 0 24 24\"\n",
              "       width=\"24px\">\n",
              "    <path d=\"M0 0h24v24H0V0z\" fill=\"none\"/>\n",
              "    <path d=\"M18.56 5.44l.94 2.06.94-2.06 2.06-.94-2.06-.94-.94-2.06-.94 2.06-2.06.94zm-11 1L8.5 8.5l.94-2.06 2.06-.94-2.06-.94L8.5 2.5l-.94 2.06-2.06.94zm10 10l.94 2.06.94-2.06 2.06-.94-2.06-.94-.94-2.06-.94 2.06-2.06.94z\"/><path d=\"M17.41 7.96l-1.37-1.37c-.4-.4-.92-.59-1.43-.59-.52 0-1.04.2-1.43.59L10.3 9.45l-7.72 7.72c-.78.78-.78 2.05 0 2.83L4 21.41c.39.39.9.59 1.41.59.51 0 1.02-.2 1.41-.59l7.78-7.78 2.81-2.81c.8-.78.8-2.07 0-2.86zM5.41 20L4 18.59l7.72-7.72 1.47 1.35L5.41 20z\"/>\n",
              "  </svg>\n",
              "      </button>\n",
              "      \n",
              "  <style>\n",
              "    .colab-df-container {\n",
              "      display:flex;\n",
              "      flex-wrap:wrap;\n",
              "      gap: 12px;\n",
              "    }\n",
              "\n",
              "    .colab-df-convert {\n",
              "      background-color: #E8F0FE;\n",
              "      border: none;\n",
              "      border-radius: 50%;\n",
              "      cursor: pointer;\n",
              "      display: none;\n",
              "      fill: #1967D2;\n",
              "      height: 32px;\n",
              "      padding: 0 0 0 0;\n",
              "      width: 32px;\n",
              "    }\n",
              "\n",
              "    .colab-df-convert:hover {\n",
              "      background-color: #E2EBFA;\n",
              "      box-shadow: 0px 1px 2px rgba(60, 64, 67, 0.3), 0px 1px 3px 1px rgba(60, 64, 67, 0.15);\n",
              "      fill: #174EA6;\n",
              "    }\n",
              "\n",
              "    [theme=dark] .colab-df-convert {\n",
              "      background-color: #3B4455;\n",
              "      fill: #D2E3FC;\n",
              "    }\n",
              "\n",
              "    [theme=dark] .colab-df-convert:hover {\n",
              "      background-color: #434B5C;\n",
              "      box-shadow: 0px 1px 3px 1px rgba(0, 0, 0, 0.15);\n",
              "      filter: drop-shadow(0px 1px 2px rgba(0, 0, 0, 0.3));\n",
              "      fill: #FFFFFF;\n",
              "    }\n",
              "  </style>\n",
              "\n",
              "      <script>\n",
              "        const buttonEl =\n",
              "          document.querySelector('#df-05a068b0-955f-4eb2-9654-6c2129514069 button.colab-df-convert');\n",
              "        buttonEl.style.display =\n",
              "          google.colab.kernel.accessAllowed ? 'block' : 'none';\n",
              "\n",
              "        async function convertToInteractive(key) {\n",
              "          const element = document.querySelector('#df-05a068b0-955f-4eb2-9654-6c2129514069');\n",
              "          const dataTable =\n",
              "            await google.colab.kernel.invokeFunction('convertToInteractive',\n",
              "                                                     [key], {});\n",
              "          if (!dataTable) return;\n",
              "\n",
              "          const docLinkHtml = 'Like what you see? Visit the ' +\n",
              "            '<a target=\"_blank\" href=https://colab.research.google.com/notebooks/data_table.ipynb>data table notebook</a>'\n",
              "            + ' to learn more about interactive tables.';\n",
              "          element.innerHTML = '';\n",
              "          dataTable['output_type'] = 'display_data';\n",
              "          await google.colab.output.renderOutput(dataTable, element);\n",
              "          const docLink = document.createElement('div');\n",
              "          docLink.innerHTML = docLinkHtml;\n",
              "          element.appendChild(docLink);\n",
              "        }\n",
              "      </script>\n",
              "    </div>\n",
              "  </div>\n",
              "  "
            ]
          },
          "metadata": {},
          "execution_count": 3
        }
      ]
    },
    {
      "cell_type": "code",
      "source": [
        "print('Valores nulos:',sum(df.isna().sum()))"
      ],
      "metadata": {
        "colab": {
          "base_uri": "https://localhost:8080/"
        },
        "id": "faciCu2rTHgF",
        "outputId": "f30c622e-7f25-47cc-efdd-c4cba380a259"
      },
      "execution_count": null,
      "outputs": [
        {
          "output_type": "stream",
          "name": "stdout",
          "text": [
            "Valores nulos: 0\n"
          ]
        }
      ]
    },
    {
      "cell_type": "code",
      "source": [
        "df['Importaciones_D'].plot();\n",
        "años = df['Año'].unique()\n",
        "plt.xticks(range(0, len(años)*4, 4), años, rotation=90);"
      ],
      "metadata": {
        "colab": {
          "base_uri": "https://localhost:8080/",
          "height": 282
        },
        "id": "h292nhYYTVVr",
        "outputId": "dcbbb004-2af1-43f6-8d50-f672779431ee"
      },
      "execution_count": null,
      "outputs": [
        {
          "output_type": "display_data",
          "data": {
            "text/plain": [
              "<Figure size 432x288 with 1 Axes>"
            ],
            "image/png": "[encoded data removed]"
          },
          "metadata": {
            "needs_background": "light"
          }
        }
      ]
    },
    {
      "cell_type": "code",
      "source": [
        "df['Año'].unique().shape[0]"
      ],
      "metadata": {
        "colab": {
          "base_uri": "https://localhost:8080/"
        },
        "id": "-IStXnisPyy-",
        "outputId": "5f6c775c-935e-4fbf-ea6a-7712ebebfaee"
      },
      "execution_count": null,
      "outputs": [
        {
          "output_type": "execute_result",
          "data": {
            "text/plain": [
              "16"
            ]
          },
          "metadata": {},
          "execution_count": 6
        }
      ]
    },
    {
      "cell_type": "code",
      "source": [
        "# Tomamos 1 trimestre por año\n",
        "cols = ['Trimestre', 'PIB_D', 'Importaciones_D', 'Exportaciones_D', 'Consumo_Privado_D', 'Consumo_Publico_D']\n",
        "# graficamos y especificamos un tamaño\n",
        "df.loc[3::4, cols].plot(kind='bar', figsize=(10,5))\n",
        "labels = df['Año'].unique()\n",
        "plt.xticks(range(0, labels.shape[0]), labels);"
      ],
      "metadata": {
        "colab": {
          "base_uri": "https://localhost:8080/",
          "height": 335
        },
        "id": "6qyKhXUrP0GC",
        "outputId": "e5da7182-8d53-43fa-e75c-efea3eec5593"
      },
      "execution_count": null,
      "outputs": [
        {
          "output_type": "display_data",
          "data": {
            "text/plain": [
              "<Figure size 720x360 with 1 Axes>"
            ],
            "image/png": "[encoded data removed]"
          },
          "metadata": {
            "needs_background": "light"
          }
        }
      ]
    },
    {
      "cell_type": "code",
      "source": [
        "df.loc[3::4]"
      ],
      "metadata": {
        "colab": {
          "base_uri": "https://localhost:8080/",
          "height": 551
        },
        "id": "Q3JsmZXuQv55",
        "outputId": "502baceb-ca0a-4621-966c-bf6ed805e6e0"
      },
      "execution_count": null,
      "outputs": [
        {
          "output_type": "execute_result",
          "data": {
            "text/plain": [
              "    Unnamed: 0   Año Trimestre    PIB_D  Importaciones_D  Exportaciones_D  \\\n",
              "3            3  2004        IV  500.929           87.173          119.994   \n",
              "7            7  2005        IV  540.395           98.234          128.397   \n",
              "11          11  2006        IV  589.424          110.614          143.320   \n",
              "15          15  2007        IV  643.565          134.672          158.949   \n",
              "19          19  2008        IV  627.222          130.037          144.309   \n",
              "23          23  2009        IV  625.867          127.002          137.635   \n",
              "27          27  2010        IV  686.482          172.632          153.600   \n",
              "31          31  2011        IV  715.892          195.414          165.557   \n",
              "35          35  2012        IV  717.349          191.201          155.565   \n",
              "39          39  2013        IV  718.587          190.352          140.199   \n",
              "43          43  2014        IV  700.691          157.895          139.513   \n",
              "47          47  2015        IV  718.853          181.085          128.823   \n",
              "51          51  2016        IV  707.661          190.411          140.741   \n",
              "55          55  2017        IV  737.720          234.093          142.134   \n",
              "59          59  2018        IV  692.198          176.589          151.873   \n",
              "63          63  2019        IV  688.879          158.838          162.559   \n",
              "\n",
              "    Consumo_Privado_D  Consumo_Publico_D  \n",
              "3             324.624             55.747  \n",
              "7             343.914             60.675  \n",
              "11            380.607             62.868  \n",
              "15            419.284             67.538  \n",
              "19            429.184             70.242  \n",
              "23            419.785             76.385  \n",
              "27            477.605             80.151  \n",
              "31            511.716             81.614  \n",
              "35            520.816             84.718  \n",
              "39            532.181             89.679  \n",
              "43            501.126             91.403  \n",
              "47            522.052             97.209  \n",
              "51            517.890             97.746  \n",
              "55            547.264             99.659  \n",
              "59            498.711             94.536  \n",
              "63            489.046             91.683  "
            ],
            "text/html": [
              "\n",
              "  <div id=\"df-0a76bea7-5e97-40cb-9f35-0689ebc61562\">\n",
              "    <div class=\"colab-df-container\">\n",
              "      <div>\n",
              "<style scoped>\n",
              "    .dataframe tbody tr th:only-of-type {\n",
              "        vertical-align: middle;\n",
              "    }\n",
              "\n",
              "    .dataframe tbody tr th {\n",
              "        vertical-align: top;\n",
              "    }\n",
              "\n",
              "    .dataframe thead th {\n",
              "        text-align: right;\n",
              "    }\n",
              "</style>\n",
              "<table border=\"1\" class=\"dataframe\">\n",
              "  <thead>\n",
              "    <tr style=\"text-align: right;\">\n",
              "      <th></th>\n",
              "      <th>Unnamed: 0</th>\n",
              "      <th>Año</th>\n",
              "      <th>Trimestre</th>\n",
              "      <th>PIB_D</th>\n",
              "      <th>Importaciones_D</th>\n",
              "      <th>Exportaciones_D</th>\n",
              "      <th>Consumo_Privado_D</th>\n",
              "      <th>Consumo_Publico_D</th>\n",
              "    </tr>\n",
              "  </thead>\n",
              "  <tbody>\n",
              "    <tr>\n",
              "      <th>3</th>\n",
              "      <td>3</td>\n",
              "      <td>2004</td>\n",
              "      <td>IV</td>\n",
              "      <td>500.929</td>\n",
              "      <td>87.173</td>\n",
              "      <td>119.994</td>\n",
              "      <td>324.624</td>\n",
              "      <td>55.747</td>\n",
              "    </tr>\n",
              "    <tr>\n",
              "      <th>7</th>\n",
              "      <td>7</td>\n",
              "      <td>2005</td>\n",
              "      <td>IV</td>\n",
              "      <td>540.395</td>\n",
              "      <td>98.234</td>\n",
              "      <td>128.397</td>\n",
              "      <td>343.914</td>\n",
              "      <td>60.675</td>\n",
              "    </tr>\n",
              "    <tr>\n",
              "      <th>11</th>\n",
              "      <td>11</td>\n",
              "      <td>2006</td>\n",
              "      <td>IV</td>\n",
              "      <td>589.424</td>\n",
              "      <td>110.614</td>\n",
              "      <td>143.320</td>\n",
              "      <td>380.607</td>\n",
              "      <td>62.868</td>\n",
              "    </tr>\n",
              "    <tr>\n",
              "      <th>15</th>\n",
              "      <td>15</td>\n",
              "      <td>2007</td>\n",
              "      <td>IV</td>\n",
              "      <td>643.565</td>\n",
              "      <td>134.672</td>\n",
              "      <td>158.949</td>\n",
              "      <td>419.284</td>\n",
              "      <td>67.538</td>\n",
              "    </tr>\n",
              "    <tr>\n",
              "      <th>19</th>\n",
              "      <td>19</td>\n",
              "      <td>2008</td>\n",
              "      <td>IV</td>\n",
              "      <td>627.222</td>\n",
              "      <td>130.037</td>\n",
              "      <td>144.309</td>\n",
              "      <td>429.184</td>\n",
              "      <td>70.242</td>\n",
              "    </tr>\n",
              "    <tr>\n",
              "      <th>23</th>\n",
              "      <td>23</td>\n",
              "      <td>2009</td>\n",
              "      <td>IV</td>\n",
              "      <td>625.867</td>\n",
              "      <td>127.002</td>\n",
              "      <td>137.635</td>\n",
              "      <td>419.785</td>\n",
              "      <td>76.385</td>\n",
              "    </tr>\n",
              "    <tr>\n",
              "      <th>27</th>\n",
              "      <td>27</td>\n",
              "      <td>2010</td>\n",
              "      <td>IV</td>\n",
              "      <td>686.482</td>\n",
              "      <td>172.632</td>\n",
              "      <td>153.600</td>\n",
              "      <td>477.605</td>\n",
              "      <td>80.151</td>\n",
              "    </tr>\n",
              "    <tr>\n",
              "      <th>31</th>\n",
              "      <td>31</td>\n",
              "      <td>2011</td>\n",
              "      <td>IV</td>\n",
              "      <td>715.892</td>\n",
              "      <td>195.414</td>\n",
              "      <td>165.557</td>\n",
              "      <td>511.716</td>\n",
              "      <td>81.614</td>\n",
              "    </tr>\n",
              "    <tr>\n",
              "      <th>35</th>\n",
              "      <td>35</td>\n",
              "      <td>2012</td>\n",
              "      <td>IV</td>\n",
              "      <td>717.349</td>\n",
              "      <td>191.201</td>\n",
              "      <td>155.565</td>\n",
              "      <td>520.816</td>\n",
              "      <td>84.718</td>\n",
              "    </tr>\n",
              "    <tr>\n",
              "      <th>39</th>\n",
              "      <td>39</td>\n",
              "      <td>2013</td>\n",
              "      <td>IV</td>\n",
              "      <td>718.587</td>\n",
              "      <td>190.352</td>\n",
              "      <td>140.199</td>\n",
              "      <td>532.181</td>\n",
              "      <td>89.679</td>\n",
              "    </tr>\n",
              "    <tr>\n",
              "      <th>43</th>\n",
              "      <td>43</td>\n",
              "      <td>2014</td>\n",
              "      <td>IV</td>\n",
              "      <td>700.691</td>\n",
              "      <td>157.895</td>\n",
              "      <td>139.513</td>\n",
              "      <td>501.126</td>\n",
              "      <td>91.403</td>\n",
              "    </tr>\n",
              "    <tr>\n",
              "      <th>47</th>\n",
              "      <td>47</td>\n",
              "      <td>2015</td>\n",
              "      <td>IV</td>\n",
              "      <td>718.853</td>\n",
              "      <td>181.085</td>\n",
              "      <td>128.823</td>\n",
              "      <td>522.052</td>\n",
              "      <td>97.209</td>\n",
              "    </tr>\n",
              "    <tr>\n",
              "      <th>51</th>\n",
              "      <td>51</td>\n",
              "      <td>2016</td>\n",
              "      <td>IV</td>\n",
              "      <td>707.661</td>\n",
              "      <td>190.411</td>\n",
              "      <td>140.741</td>\n",
              "      <td>517.890</td>\n",
              "      <td>97.746</td>\n",
              "    </tr>\n",
              "    <tr>\n",
              "      <th>55</th>\n",
              "      <td>55</td>\n",
              "      <td>2017</td>\n",
              "      <td>IV</td>\n",
              "      <td>737.720</td>\n",
              "      <td>234.093</td>\n",
              "      <td>142.134</td>\n",
              "      <td>547.264</td>\n",
              "      <td>99.659</td>\n",
              "    </tr>\n",
              "    <tr>\n",
              "      <th>59</th>\n",
              "      <td>59</td>\n",
              "      <td>2018</td>\n",
              "      <td>IV</td>\n",
              "      <td>692.198</td>\n",
              "      <td>176.589</td>\n",
              "      <td>151.873</td>\n",
              "      <td>498.711</td>\n",
              "      <td>94.536</td>\n",
              "    </tr>\n",
              "    <tr>\n",
              "      <th>63</th>\n",
              "      <td>63</td>\n",
              "      <td>2019</td>\n",
              "      <td>IV</td>\n",
              "      <td>688.879</td>\n",
              "      <td>158.838</td>\n",
              "      <td>162.559</td>\n",
              "      <td>489.046</td>\n",
              "      <td>91.683</td>\n",
              "    </tr>\n",
              "  </tbody>\n",
              "</table>\n",
              "</div>\n",
              "      <button class=\"colab-df-convert\" onclick=\"convertToInteractive('df-0a76bea7-5e97-40cb-9f35-0689ebc61562')\"\n",
              "              title=\"Convert this dataframe to an interactive table.\"\n",
              "              style=\"display:none;\">\n",
              "        \n",
              "  <svg xmlns=\"http://www.w3.org/2000/svg\" height=\"24px\"viewBox=\"0 0 24 24\"\n",
              "       width=\"24px\">\n",
              "    <path d=\"M0 0h24v24H0V0z\" fill=\"none\"/>\n",
              "    <path d=\"M18.56 5.44l.94 2.06.94-2.06 2.06-.94-2.06-.94-.94-2.06-.94 2.06-2.06.94zm-11 1L8.5 8.5l.94-2.06 2.06-.94-2.06-.94L8.5 2.5l-.94 2.06-2.06.94zm10 10l.94 2.06.94-2.06 2.06-.94-2.06-.94-.94-2.06-.94 2.06-2.06.94z\"/><path d=\"M17.41 7.96l-1.37-1.37c-.4-.4-.92-.59-1.43-.59-.52 0-1.04.2-1.43.59L10.3 9.45l-7.72 7.72c-.78.78-.78 2.05 0 2.83L4 21.41c.39.39.9.59 1.41.59.51 0 1.02-.2 1.41-.59l7.78-7.78 2.81-2.81c.8-.78.8-2.07 0-2.86zM5.41 20L4 18.59l7.72-7.72 1.47 1.35L5.41 20z\"/>\n",
              "  </svg>\n",
              "      </button>\n",
              "      \n",
              "  <style>\n",
              "    .colab-df-container {\n",
              "      display:flex;\n",
              "      flex-wrap:wrap;\n",
              "      gap: 12px;\n",
              "    }\n",
              "\n",
              "    .colab-df-convert {\n",
              "      background-color: #E8F0FE;\n",
              "      border: none;\n",
              "      border-radius: 50%;\n",
              "      cursor: pointer;\n",
              "      display: none;\n",
              "      fill: #1967D2;\n",
              "      height: 32px;\n",
              "      padding: 0 0 0 0;\n",
              "      width: 32px;\n",
              "    }\n",
              "\n",
              "    .colab-df-convert:hover {\n",
              "      background-color: #E2EBFA;\n",
              "      box-shadow: 0px 1px 2px rgba(60, 64, 67, 0.3), 0px 1px 3px 1px rgba(60, 64, 67, 0.15);\n",
              "      fill: #174EA6;\n",
              "    }\n",
              "\n",
              "    [theme=dark] .colab-df-convert {\n",
              "      background-color: #3B4455;\n",
              "      fill: #D2E3FC;\n",
              "    }\n",
              "\n",
              "    [theme=dark] .colab-df-convert:hover {\n",
              "      background-color: #434B5C;\n",
              "      box-shadow: 0px 1px 3px 1px rgba(0, 0, 0, 0.15);\n",
              "      filter: drop-shadow(0px 1px 2px rgba(0, 0, 0, 0.3));\n",
              "      fill: #FFFFFF;\n",
              "    }\n",
              "  </style>\n",
              "\n",
              "      <script>\n",
              "        const buttonEl =\n",
              "          document.querySelector('#df-0a76bea7-5e97-40cb-9f35-0689ebc61562 button.colab-df-convert');\n",
              "        buttonEl.style.display =\n",
              "          google.colab.kernel.accessAllowed ? 'block' : 'none';\n",
              "\n",
              "        async function convertToInteractive(key) {\n",
              "          const element = document.querySelector('#df-0a76bea7-5e97-40cb-9f35-0689ebc61562');\n",
              "          const dataTable =\n",
              "            await google.colab.kernel.invokeFunction('convertToInteractive',\n",
              "                                                     [key], {});\n",
              "          if (!dataTable) return;\n",
              "\n",
              "          const docLinkHtml = 'Like what you see? Visit the ' +\n",
              "            '<a target=\"_blank\" href=https://colab.research.google.com/notebooks/data_table.ipynb>data table notebook</a>'\n",
              "            + ' to learn more about interactive tables.';\n",
              "          element.innerHTML = '';\n",
              "          dataTable['output_type'] = 'display_data';\n",
              "          await google.colab.output.renderOutput(dataTable, element);\n",
              "          const docLink = document.createElement('div');\n",
              "          docLink.innerHTML = docLinkHtml;\n",
              "          element.appendChild(docLink);\n",
              "        }\n",
              "      </script>\n",
              "    </div>\n",
              "  </div>\n",
              "  "
            ]
          },
          "metadata": {},
          "execution_count": 8
        }
      ]
    },
    {
      "cell_type": "code",
      "source": [
        "df['Trimestre'][3::4]"
      ],
      "metadata": {
        "colab": {
          "base_uri": "https://localhost:8080/"
        },
        "id": "8i1955IdSBQr",
        "outputId": "857fd462-e57b-44a7-c92f-2e854a7bc87f"
      },
      "execution_count": null,
      "outputs": [
        {
          "output_type": "execute_result",
          "data": {
            "text/plain": [
              "3     IV\n",
              "7     IV\n",
              "11    IV\n",
              "15    IV\n",
              "19    IV\n",
              "23    IV\n",
              "27    IV\n",
              "31    IV\n",
              "35    IV\n",
              "39    IV\n",
              "43    IV\n",
              "47    IV\n",
              "51    IV\n",
              "55    IV\n",
              "59    IV\n",
              "63    IV\n",
              "Name: Trimestre, dtype: object"
            ]
          },
          "metadata": {},
          "execution_count": 9
        }
      ]
    },
    {
      "cell_type": "code",
      "source": [
        "media_movil = df['Exportaciones_D'].rolling(4).mean()\n",
        "desvio_movil = df['Exportaciones_D'].rolling(4).std()"
      ],
      "metadata": {
        "id": "_Oo-zdJFC6pi"
      },
      "execution_count": null,
      "outputs": []
    },
    {
      "cell_type": "code",
      "source": [
        "df['Exportaciones_D'].plot()\n",
        "media_movil.plot()\n",
        "desvio_movil.plot(kind='bar')\n",
        "plt.xticks(range(1,65,4), df['Año'].unique(), rotation=90)\n",
        "plt.xlabel('Año')\n",
        "plt.title('Exportaciones, con media movil y desvio std')\n",
        "plt.ylabel('Pesos');"
      ],
      "metadata": {
        "colab": {
          "base_uri": "https://localhost:8080/",
          "height": 311
        },
        "id": "5da0gTXNGlUL",
        "outputId": "d0e5b630-218c-454e-d2fe-627433a2ff9e"
      },
      "execution_count": null,
      "outputs": [
        {
          "output_type": "display_data",
          "data": {
            "text/plain": [
              "<Figure size 432x288 with 1 Axes>"
            ],
            "image/png": "[encoded data removed]"
          },
          "metadata": {
            "needs_background": "light"
          }
        }
      ]
    },
    {
      "cell_type": "code",
      "source": [
        ""
      ],
      "metadata": {
        "id": "9pidZKYKHI2h"
      },
      "execution_count": null,
      "outputs": []
    }
  ]
}