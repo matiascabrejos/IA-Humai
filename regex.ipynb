{
  "nbformat": 4,
  "nbformat_minor": 0,
  "metadata": {
    "colab": {
      "name": "regex.ipynb",
      "provenance": [],
      "collapsed_sections": [],
      "authorship_tag": "ABX9TyMkGx2pbAqxsljN5djvWrNV",
      "include_colab_link": true
    },
    "kernelspec": {
      "name": "python3",
      "display_name": "Python 3"
    },
    "language_info": {
      "name": "python"
    }
  },
  "cells": [
    {
      "cell_type": "markdown",
      "metadata": {
        "id": "view-in-github",
        "colab_type": "text"
      },
      "source": [
        "<a href=\"https://colab.research.google.com/github/matiascabrejos/IA-Humai/blob/main/regex.ipynb\" target=\"_parent\"><img src=\"https://colab.research.google.com/assets/colab-badge.svg\" alt=\"Open In Colab\"/></a>"
      ]
    },
    {
      "cell_type": "code",
      "execution_count": null,
      "metadata": {
        "id": "fMNEcNlM6GXe"
      },
      "outputs": [],
      "source": [
        "import re"
      ]
    },
    {
      "cell_type": "markdown",
      "source": [
        "Ejercicio\n",
        "\n",
        "Usa regex para hacer una función que busque todos los emails en un texto"
      ],
      "metadata": {
        "id": "VRlPIge08YCL"
      }
    },
    {
      "cell_type": "code",
      "source": [
        "def encontrar_emails(texto):\n",
        "  regla_de_busqueda = r'[a-zA-Z0-9_.+-]+@[a-zA-Z]+\\.com'\n",
        "  return re.findall(regla_de_busqueda, texto)"
      ],
      "metadata": {
        "id": "VcK2PVuR8e2g"
      },
      "execution_count": null,
      "outputs": []
    },
    {
      "cell_type": "code",
      "source": [
        "texto = \"Hola te paso mi mail python@hotmail.com, saludos. Si no te funciona mandame a este otro, pedro_2010@yahoo.com. Otro mas, mati@hotmail.com\"\n",
        "encontrar_emails(texto)"
      ],
      "metadata": {
        "colab": {
          "base_uri": "https://localhost:8080/"
        },
        "id": "zZGDgTRT8Z15",
        "outputId": "46cadcb3-a661-475e-a6e7-235278fafa80"
      },
      "execution_count": null,
      "outputs": [
        {
          "output_type": "execute_result",
          "data": {
            "text/plain": [
              "['python@hotmail.com', 'pedro_2010@yahoo.com', 'mati@hotmail.com']"
            ]
          },
          "metadata": {},
          "execution_count": 23
        }
      ]
    },
    {
      "cell_type": "code",
      "source": [
        "!wget -nc https://unket.s3.sa-east-1.amazonaws.com/data/DSM.txt"
      ],
      "metadata": {
        "colab": {
          "base_uri": "https://localhost:8080/"
        },
        "id": "00rfkoKe_A--",
        "outputId": "dd7a67c2-910b-47fe-caa0-87fb22abe0d2"
      },
      "execution_count": null,
      "outputs": [
        {
          "output_type": "stream",
          "name": "stdout",
          "text": [
            "--2022-04-27 07:46:09--  https://unket.s3.sa-east-1.amazonaws.com/data/DSM.txt\n",
            "Resolving unket.s3.sa-east-1.amazonaws.com (unket.s3.sa-east-1.amazonaws.com)... 52.95.163.55\n",
            "Connecting to unket.s3.sa-east-1.amazonaws.com (unket.s3.sa-east-1.amazonaws.com)|52.95.163.55|:443... connected.\n",
            "HTTP request sent, awaiting response... 200 OK\n",
            "Length: 2445688 (2.3M) [text/plain]\n",
            "Saving to: ‘DSM.txt’\n",
            "\n",
            "DSM.txt             100%[===================>]   2.33M  2.88MB/s    in 0.8s    \n",
            "\n",
            "2022-04-27 07:46:11 (2.88 MB/s) - ‘DSM.txt’ saved [2445688/2445688]\n",
            "\n"
          ]
        }
      ]
    },
    {
      "cell_type": "code",
      "source": [
        "with open('DSM.txt', 'r') as inp:\n",
        "    texto = inp.read()"
      ],
      "metadata": {
        "id": "pgIh1id1_FEi"
      },
      "execution_count": null,
      "outputs": []
    },
    {
      "cell_type": "markdown",
      "source": [
        "De este texto:\n",
        "\n",
        "Extraer los nombres de los médicos que aparecen.\n",
        "Extracto de ejemplo:\n",
        "\n",
        "Allan Burstein, M.D.\n",
        "David M. Clark, Ph.D.\n",
        "Lee Anna Clark, Ph.D.\n",
        "Deborah S. Cowley, M.D.\n",
        "Es decir, en cada renglón sigue el patrón \"[nombres], M.D.\".\n",
        "\n",
        "Tip: recuerden cómo se representa el paso de línea (o \"newline\")!"
      ],
      "metadata": {
        "id": "mHXVwbFc_OON"
      }
    },
    {
      "cell_type": "code",
      "source": [
        "mds = re.findall('\\n(.+M.D.)\\n', texto)\n",
        "mds[:10]"
      ],
      "metadata": {
        "colab": {
          "base_uri": "https://localhost:8080/"
        },
        "id": "2-NNqec4_Q3D",
        "outputId": "6ac20fee-cbb7-4564-b21b-ba639cff4e25"
      },
      "execution_count": null,
      "outputs": [
        {
          "output_type": "execute_result",
          "data": {
            "text/plain": [
              "['ALLEN FRANCES, M.D.',\n",
              " 'HAROLD ALAN PINCUS, M.D.',\n",
              " 'MICHAEL B. FIRST, M.D.',\n",
              " 'Magda Campbell, M.D.',\n",
              " 'Judith H. Gold, M.D.',\n",
              " 'Robert E. Hales, M.D.',\n",
              " 'David J. Kupfer, M.D.',\n",
              " 'Roger Peele, M.D.',\n",
              " 'A. John Rush, M.D.',\n",
              " 'Marc Alan Schuckit, M.D.']"
            ]
          },
          "metadata": {},
          "execution_count": 28
        }
      ]
    },
    {
      "cell_type": "markdown",
      "source": [
        "Ahora buscar a las personas con PhDs (observen el extracto anterior)"
      ],
      "metadata": {
        "id": "bcONSTr-EOD6"
      }
    },
    {
      "cell_type": "code",
      "source": [
        "phds = re.findall('\\n(.+Ph.D.)\\n', texto)\n",
        "phds[:10]"
      ],
      "metadata": {
        "colab": {
          "base_uri": "https://localhost:8080/"
        },
        "id": "jznN7DPFEOel",
        "outputId": "382d05ff-3f70-44c0-8f0a-06a97e7e93d7"
      },
      "execution_count": null,
      "outputs": [
        {
          "output_type": "execute_result",
          "data": {
            "text/plain": [
              "['Nancy Coover Andreasen, M.D., Ph.D.',\n",
              " 'Ellen Frank, Ph.D.',\n",
              " 'Juan Enrique Mezzich, M.D., Ph.D.',\n",
              " 'Edna Foa, Ph.D.',\n",
              " 'Rachel Klein, Ph.D.',\n",
              " 'Rolf Loeber, Ph.D.',\n",
              " 'Rhea Paul, Ph.D.',\n",
              " 'G. Terence Wilson, Ph.D.',\n",
              " 'Ellen Frank, Ph.D.',\n",
              " 'Juan Enrique Mezzich, M.D., Ph.D.']"
            ]
          },
          "metadata": {},
          "execution_count": 29
        }
      ]
    },
    {
      "cell_type": "code",
      "source": [
        "tr = re.findall('diagnostic criteria for [\\d.]+ (.+?)\\n', texto, flags=re.IGNORECASE)\n",
        "tr[10:20]"
      ],
      "metadata": {
        "colab": {
          "base_uri": "https://localhost:8080/"
        },
        "id": "iKhhZYRLGhvl",
        "outputId": "af78a473-1b5a-4343-9b17-9b9a30625a8c"
      },
      "execution_count": null,
      "outputs": [
        {
          "output_type": "execute_result",
          "data": {
            "text/plain": [
              "['Autistic Disorder',\n",
              " 'Autistic Disorder (continued)',\n",
              " \"Rett's Disorder\",\n",
              " \"Rett's Disorder (continued)\",\n",
              " 'Childhood',\n",
              " 'Childhood Disintegrative',\n",
              " \"Asperger's Disorder\",\n",
              " 'Conduct Disorder',\n",
              " 'Conduct Disorder (continued)',\n",
              " 'Oppositional Defiant']"
            ]
          },
          "metadata": {},
          "execution_count": 35
        }
      ]
    }
  ]
}