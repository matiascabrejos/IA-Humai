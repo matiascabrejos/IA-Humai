{
  "nbformat": 4,
  "nbformat_minor": 0,
  "metadata": {
    "colab": {
      "name": "exercise_class2.ipynb",
      "provenance": [],
      "collapsed_sections": [],
      "authorship_tag": "ABX9TyMK7vCg6awNb07a47+fuqJD",
      "include_colab_link": true
    },
    "kernelspec": {
      "name": "python3",
      "display_name": "Python 3"
    },
    "language_info": {
      "name": "python"
    }
  },
  "cells": [
    {
      "cell_type": "markdown",
      "metadata": {
        "id": "view-in-github",
        "colab_type": "text"
      },
      "source": [
        "<a href=\"https://colab.research.google.com/github/matiascabrejos/IA-Humai/blob/main/exercise_class2.ipynb\" target=\"_parent\"><img src=\"https://colab.research.google.com/assets/colab-badge.svg\" alt=\"Open In Colab\"/></a>"
      ]
    },
    {
      "cell_type": "code",
      "source": [
        "import pandas as pd\n",
        "import numpy as np\n",
        "import matplotlib\n",
        "import matplotlib.pyplot as plt\n",
        "\n",
        "plt.style.use('ggplot')\n",
        "%matplotlib inline"
      ],
      "metadata": {
        "id": "FGa7q-NR7mss"
      },
      "execution_count": null,
      "outputs": []
    },
    {
      "cell_type": "code",
      "source": [
        "ESTIMACIONES_URL = \"http://datos.agroindustria.gob.ar/dataset/9e1e77ba-267e-4eaa-a59f-3296e86b5f36/resource/95d066e6-8a0f-4a80-b59d-6f28f88eacd5/download/estimaciones-agricolas-al-30-09-2019.csv\"\n",
        "ESTIMACIONES_URL_S3 = \"https://datasets-humai.s3.amazonaws.com/datasets/estimaciones_agricolas.zip\"\n",
        "ESTIMACIONES_PATH = \"data/estimaciones-agricolas.csv\""
      ],
      "metadata": {
        "id": "dGBtm7NY7tkH"
      },
      "execution_count": null,
      "outputs": []
    },
    {
      "cell_type": "code",
      "source": [
        "converters = {\n",
        "    \"id_provincia\": lambda x: str(x).zfill(2),\n",
        "    \"id_departamento\": lambda x: str(x).zfill(3),\n",
        "}\n",
        "\n",
        "#estimaciones = pd.read_csv(ESTIMACIONES_URL, encoding=\"latin1\", converters=converters)estimaciones = pd.read_csv(ESTIMACIONES_URL, encoding=\"latin1\", converters=converters)\n",
        "estimaciones = pd.read_csv(ESTIMACIONES_URL_S3, encoding=\"utf8\", converters=converters)\n",
        "#estimaciones.to_csv(ESTIMACIONES_PATH, encoding=\"utf8\", index=False)\n",
        "#estimaciones = pd.read_csv(ESTIMACIONES_PATH, converters=converters)"
      ],
      "metadata": {
        "id": "0D5uvEJK7zGW"
      },
      "execution_count": null,
      "outputs": []
    },
    {
      "cell_type": "code",
      "source": [
        "estimaciones.columns"
      ],
      "metadata": {
        "colab": {
          "base_uri": "https://localhost:8080/"
        },
        "id": "PJ6zCvV-79gX",
        "outputId": "b252b204-fd90-40ca-f259-8361ffc17cb5"
      },
      "execution_count": null,
      "outputs": [
        {
          "output_type": "execute_result",
          "data": {
            "text/plain": [
              "Index(['id_provincia', 'provincia', 'id_departamento', 'departamento',\n",
              "       'id_cultivo', 'cultivo', 'id_campaña', 'campaña', 'sup_sembrada',\n",
              "       'sup_cosechada', 'produccion', 'rendimiento'],\n",
              "      dtype='object')"
            ]
          },
          "metadata": {},
          "execution_count": 48
        }
      ]
    },
    {
      "cell_type": "code",
      "source": [
        "estimaciones.columns = [col.strip() for col in estimaciones.columns]"
      ],
      "metadata": {
        "id": "nZ1vJLfY8j_e"
      },
      "execution_count": null,
      "outputs": []
    },
    {
      "cell_type": "code",
      "source": [
        "estimaciones['campaña']"
      ],
      "metadata": {
        "colab": {
          "base_uri": "https://localhost:8080/"
        },
        "id": "sHe3JwFx9bNF",
        "outputId": "ef858d85-9f55-4dae-cada-831c71f4bf3c"
      },
      "execution_count": null,
      "outputs": [
        {
          "output_type": "execute_result",
          "data": {
            "text/plain": [
              "0         1969/1970\n",
              "1         1970/1971\n",
              "2         1969/1970\n",
              "3         1970/1971\n",
              "4         1971/1972\n",
              "            ...    \n",
              "136046    1993/1994\n",
              "136047    1994/1995\n",
              "136048    1995/1996\n",
              "136049    1996/1997\n",
              "136050    1997/1998\n",
              "Name: campaña, Length: 136051, dtype: object"
            ]
          },
          "metadata": {},
          "execution_count": 47
        }
      ]
    },
    {
      "cell_type": "code",
      "source": [
        "estimaciones[\"produccion\"] = estimaciones.produccion.astype(float) / 1000000"
      ],
      "metadata": {
        "id": "ug3V6nCEI-TH"
      },
      "execution_count": null,
      "outputs": []
    },
    {
      "cell_type": "code",
      "source": [
        "estimaciones[\"campaña\"] = estimaciones.campaña.str.replace(\"2010/2017\", \"2010/2011\")"
      ],
      "metadata": {
        "id": "-jjlxT0lIqbF"
      },
      "execution_count": null,
      "outputs": []
    },
    {
      "cell_type": "code",
      "source": [
        "produccion_anual = estimaciones.pivot_table(\n",
        "    index=[\"campaña\"],\n",
        "    values=[\"produccion\"],\n",
        "    aggfunc=\"sum\"\n",
        ")"
      ],
      "metadata": {
        "id": "FnHp4LUAL4C9"
      },
      "execution_count": null,
      "outputs": []
    },
    {
      "cell_type": "code",
      "source": [
        "produccion_anual.plot(\n",
        "    figsize=(17, 8),\n",
        "    title=\"Producción agrícola total anual (tn)\"\n",
        ")"
      ],
      "metadata": {
        "colab": {
          "base_uri": "https://localhost:8080/",
          "height": 534
        },
        "id": "HWVTUwy_L4b_",
        "outputId": "0c78eefe-e9aa-41da-f159-250b1bfe7c84"
      },
      "execution_count": null,
      "outputs": [
        {
          "output_type": "execute_result",
          "data": {
            "text/plain": [
              "<matplotlib.axes._subplots.AxesSubplot at 0x7f73acd24c50>"
            ]
          },
          "metadata": {},
          "execution_count": 58
        },
        {
          "output_type": "display_data",
          "data": {
            "text/plain": [
              "<Figure size 1224x576 with 1 Axes>"
            ],
            "image/png": "[encoded data removed]"
          },
          "metadata": {
            "needs_background": "light"
          }
        }
      ]
    },
    {
      "cell_type": "code",
      "source": [
        "produccion_anual.tail()"
      ],
      "metadata": {
        "colab": {
          "base_uri": "https://localhost:8080/",
          "height": 238
        },
        "id": "Ltwck94bMBcv",
        "outputId": "cd45708f-186b-47b1-a62a-deed3d965cbf"
      },
      "execution_count": null,
      "outputs": [
        {
          "output_type": "execute_result",
          "data": {
            "text/plain": [
              "           produccion\n",
              "campaña              \n",
              "2014/2015  124.498769\n",
              "2015/2016  126.571125\n",
              "2016/2017  141.203713\n",
              "2017/2018  116.768681\n",
              "2018/2019   30.468652"
            ],
            "text/html": [
              "\n",
              "  <div id=\"df-40417f7a-bd66-48ab-b110-3a3eccb5947a\">\n",
              "    <div class=\"colab-df-container\">\n",
              "      <div>\n",
              "<style scoped>\n",
              "    .dataframe tbody tr th:only-of-type {\n",
              "        vertical-align: middle;\n",
              "    }\n",
              "\n",
              "    .dataframe tbody tr th {\n",
              "        vertical-align: top;\n",
              "    }\n",
              "\n",
              "    .dataframe thead th {\n",
              "        text-align: right;\n",
              "    }\n",
              "</style>\n",
              "<table border=\"1\" class=\"dataframe\">\n",
              "  <thead>\n",
              "    <tr style=\"text-align: right;\">\n",
              "      <th></th>\n",
              "      <th>produccion</th>\n",
              "    </tr>\n",
              "    <tr>\n",
              "      <th>campaña</th>\n",
              "      <th></th>\n",
              "    </tr>\n",
              "  </thead>\n",
              "  <tbody>\n",
              "    <tr>\n",
              "      <th>2014/2015</th>\n",
              "      <td>124.498769</td>\n",
              "    </tr>\n",
              "    <tr>\n",
              "      <th>2015/2016</th>\n",
              "      <td>126.571125</td>\n",
              "    </tr>\n",
              "    <tr>\n",
              "      <th>2016/2017</th>\n",
              "      <td>141.203713</td>\n",
              "    </tr>\n",
              "    <tr>\n",
              "      <th>2017/2018</th>\n",
              "      <td>116.768681</td>\n",
              "    </tr>\n",
              "    <tr>\n",
              "      <th>2018/2019</th>\n",
              "      <td>30.468652</td>\n",
              "    </tr>\n",
              "  </tbody>\n",
              "</table>\n",
              "</div>\n",
              "      <button class=\"colab-df-convert\" onclick=\"convertToInteractive('df-40417f7a-bd66-48ab-b110-3a3eccb5947a')\"\n",
              "              title=\"Convert this dataframe to an interactive table.\"\n",
              "              style=\"display:none;\">\n",
              "        \n",
              "  <svg xmlns=\"http://www.w3.org/2000/svg\" height=\"24px\"viewBox=\"0 0 24 24\"\n",
              "       width=\"24px\">\n",
              "    <path d=\"M0 0h24v24H0V0z\" fill=\"none\"/>\n",
              "    <path d=\"M18.56 5.44l.94 2.06.94-2.06 2.06-.94-2.06-.94-.94-2.06-.94 2.06-2.06.94zm-11 1L8.5 8.5l.94-2.06 2.06-.94-2.06-.94L8.5 2.5l-.94 2.06-2.06.94zm10 10l.94 2.06.94-2.06 2.06-.94-2.06-.94-.94-2.06-.94 2.06-2.06.94z\"/><path d=\"M17.41 7.96l-1.37-1.37c-.4-.4-.92-.59-1.43-.59-.52 0-1.04.2-1.43.59L10.3 9.45l-7.72 7.72c-.78.78-.78 2.05 0 2.83L4 21.41c.39.39.9.59 1.41.59.51 0 1.02-.2 1.41-.59l7.78-7.78 2.81-2.81c.8-.78.8-2.07 0-2.86zM5.41 20L4 18.59l7.72-7.72 1.47 1.35L5.41 20z\"/>\n",
              "  </svg>\n",
              "      </button>\n",
              "      \n",
              "  <style>\n",
              "    .colab-df-container {\n",
              "      display:flex;\n",
              "      flex-wrap:wrap;\n",
              "      gap: 12px;\n",
              "    }\n",
              "\n",
              "    .colab-df-convert {\n",
              "      background-color: #E8F0FE;\n",
              "      border: none;\n",
              "      border-radius: 50%;\n",
              "      cursor: pointer;\n",
              "      display: none;\n",
              "      fill: #1967D2;\n",
              "      height: 32px;\n",
              "      padding: 0 0 0 0;\n",
              "      width: 32px;\n",
              "    }\n",
              "\n",
              "    .colab-df-convert:hover {\n",
              "      background-color: #E2EBFA;\n",
              "      box-shadow: 0px 1px 2px rgba(60, 64, 67, 0.3), 0px 1px 3px 1px rgba(60, 64, 67, 0.15);\n",
              "      fill: #174EA6;\n",
              "    }\n",
              "\n",
              "    [theme=dark] .colab-df-convert {\n",
              "      background-color: #3B4455;\n",
              "      fill: #D2E3FC;\n",
              "    }\n",
              "\n",
              "    [theme=dark] .colab-df-convert:hover {\n",
              "      background-color: #434B5C;\n",
              "      box-shadow: 0px 1px 3px 1px rgba(0, 0, 0, 0.15);\n",
              "      filter: drop-shadow(0px 1px 2px rgba(0, 0, 0, 0.3));\n",
              "      fill: #FFFFFF;\n",
              "    }\n",
              "  </style>\n",
              "\n",
              "      <script>\n",
              "        const buttonEl =\n",
              "          document.querySelector('#df-40417f7a-bd66-48ab-b110-3a3eccb5947a button.colab-df-convert');\n",
              "        buttonEl.style.display =\n",
              "          google.colab.kernel.accessAllowed ? 'block' : 'none';\n",
              "\n",
              "        async function convertToInteractive(key) {\n",
              "          const element = document.querySelector('#df-40417f7a-bd66-48ab-b110-3a3eccb5947a');\n",
              "          const dataTable =\n",
              "            await google.colab.kernel.invokeFunction('convertToInteractive',\n",
              "                                                     [key], {});\n",
              "          if (!dataTable) return;\n",
              "\n",
              "          const docLinkHtml = 'Like what you see? Visit the ' +\n",
              "            '<a target=\"_blank\" href=https://colab.research.google.com/notebooks/data_table.ipynb>data table notebook</a>'\n",
              "            + ' to learn more about interactive tables.';\n",
              "          element.innerHTML = '';\n",
              "          dataTable['output_type'] = 'display_data';\n",
              "          await google.colab.output.renderOutput(dataTable, element);\n",
              "          const docLink = document.createElement('div');\n",
              "          docLink.innerHTML = docLinkHtml;\n",
              "          element.appendChild(docLink);\n",
              "        }\n",
              "      </script>\n",
              "    </div>\n",
              "  </div>\n",
              "  "
            ]
          },
          "metadata": {},
          "execution_count": 54
        }
      ]
    },
    {
      "cell_type": "code",
      "source": [
        "estimaciones = estimaciones[estimaciones.campaña != \"2018/2019\"]"
      ],
      "metadata": {
        "id": "73N393ZtMNAQ"
      },
      "execution_count": null,
      "outputs": []
    }
  ]
}