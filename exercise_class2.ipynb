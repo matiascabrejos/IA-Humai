{
  "nbformat": 4,
  "nbformat_minor": 0,
  "metadata": {
    "colab": {
      "name": "exercise_class2.ipynb",
      "provenance": [],
      "collapsed_sections": [],
      "authorship_tag": "ABX9TyN/k4kj2Yh7lVIWqZnmYXTY",
      "include_colab_link": true
    },
    "kernelspec": {
      "name": "python3",
      "display_name": "Python 3"
    },
    "language_info": {
      "name": "python"
    }
  },
  "cells": [
    {
      "cell_type": "markdown",
      "metadata": {
        "id": "view-in-github",
        "colab_type": "text"
      },
      "source": [
        "<a href=\"https://colab.research.google.com/github/matiascabrejos/IA-Humai/blob/main/exercise_class2.ipynb\" target=\"_parent\"><img src=\"https://colab.research.google.com/assets/colab-badge.svg\" alt=\"Open In Colab\"/></a>"
      ]
    },
    {
      "cell_type": "code",
      "source": [
        "import requests"
      ],
      "metadata": {
        "id": "dgKcnzHpGZSK"
      },
      "execution_count": null,
      "outputs": []
    },
    {
      "cell_type": "markdown",
      "source": [
        "Argenprop\n",
        "\n",
        "Elegir un departamento en palermo que les guste desde este link y descargar sus datos utilizando la API oculta de argenprop."
      ],
      "metadata": {
        "id": "l0iE27gn1ObZ"
      }
    },
    {
      "cell_type": "markdown",
      "source": [
        "Twitter\n",
        "\n",
        "Intenten utilizar la API oculta de twitter para descargar los primeros 20 tweets de pyconar: https://twitter.com/pyconar"
      ],
      "metadata": {
        "id": "9d5FEfS11UOc"
      }
    }
  ]
}